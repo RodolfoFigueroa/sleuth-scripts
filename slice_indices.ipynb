{
 "cells": [
  {
   "cell_type": "code",
   "execution_count": 62,
   "metadata": {},
   "outputs": [],
   "source": [
    "import toml\n",
    "\n",
    "import geopandas as gpd"
   ]
  },
  {
   "cell_type": "code",
   "execution_count": 63,
   "metadata": {},
   "outputs": [],
   "source": [
    "df = gpd.read_file(\"./fuas/cities_fua.gpkg\")\n",
    "df = df.sort_values(\"FUA_area\", ascending=False)\n",
    "df = df[(df[\"country\"] != \"Argentina\") & (df[\"country\"] != \"Barbados\")]"
   ]
  },
  {
   "cell_type": "code",
   "execution_count": 64,
   "metadata": {},
   "outputs": [],
   "source": [
    "class Bucket:\n",
    "    def __init__(self):\n",
    "        self.indices = []\n",
    "        self.areas = []\n",
    "        self.total_area = 0\n",
    "\n",
    "    def add(self, new):\n",
    "        self.indices.append(new[0])\n",
    "        self.areas.append(new[1])\n",
    "        self.total_area += new[1]\n",
    "\n",
    "    def __repr__(self):\n",
    "        return f\"Indices: {self.indices}\\nAreas: {self.areas}\\nTotal: {self.total_area}\"\n",
    "    \n",
    "    def __lt__(self, other):\n",
    "        return self.total_area < other.total_area\n",
    "    \n",
    "    def __le__(self, other):\n",
    "        return self.total_area <= other.total_area\n",
    "    \n",
    "    def __gt__(self, other):\n",
    "        return self.total_area > other.total_area\n",
    "    \n",
    "    def __ge__(self, other):\n",
    "        return self.total_area >= other.total_area"
   ]
  },
  {
   "cell_type": "code",
   "execution_count": 65,
   "metadata": {},
   "outputs": [],
   "source": [
    "num_buckets = 10\n",
    "buckets = []\n",
    "for i in range(num_buckets):\n",
    "    bucket = Bucket()\n",
    "    index = int(df.index[i])\n",
    "    area = df.iloc[i][\"FUA_area\"]\n",
    "    bucket.add((index, area))\n",
    "    buckets.append(bucket)\n",
    "\n",
    "for index, row in df.iloc[num_buckets:].iterrows():\n",
    "    buckets.sort()\n",
    "    index = int(index)\n",
    "    area = row[\"FUA_area\"]\n",
    "    buckets[0].add((index, area))"
   ]
  },
  {
   "cell_type": "code",
   "execution_count": 66,
   "metadata": {},
   "outputs": [],
   "source": [
    "indices = [b.indices for b in buckets]\n",
    "indices = [x for subl in indices for x in subl]\n",
    "indices = set(indices)"
   ]
  },
  {
   "cell_type": "code",
   "execution_count": 67,
   "metadata": {},
   "outputs": [],
   "source": [
    "with open(\"./config_master.toml\", \"r\") as f:\n",
    "    config_master = toml.load(f)\n",
    "\n",
    "for i in range(num_buckets):\n",
    "    config = config_master.copy()\n",
    "    config[\"calibration\"][\"indices\"] = buckets[i].indices\n",
    "    with open(f\"./configs/config_{i}.toml\", \"w\") as f:\n",
    "        toml.dump(config, f)"
   ]
  }
 ],
 "metadata": {
  "kernelspec": {
   "display_name": "sleuth",
   "language": "python",
   "name": "python3"
  },
  "language_info": {
   "codemirror_mode": {
    "name": "ipython",
    "version": 3
   },
   "file_extension": ".py",
   "mimetype": "text/x-python",
   "name": "python",
   "nbconvert_exporter": "python",
   "pygments_lexer": "ipython3",
   "version": "3.10.11"
  },
  "orig_nbformat": 4
 },
 "nbformat": 4,
 "nbformat_minor": 2
}
